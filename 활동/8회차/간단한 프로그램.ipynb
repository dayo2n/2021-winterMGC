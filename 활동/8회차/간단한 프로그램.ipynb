{
 "cells": [
  {
   "cell_type": "code",
   "execution_count": 1,
   "metadata": {},
   "outputs": [],
   "source": [
    "#구구단\n",
    "\n",
    "def Gugu(n):\n",
    "    result = []\n",
    "    i = 1\n",
    "    while i < 10:\n",
    "        result.append(n*i)\n",
    "        i = i + 1\n",
    "    return result"
   ]
  },
  {
   "cell_type": "code",
   "execution_count": 2,
   "metadata": {},
   "outputs": [
    {
     "data": {
      "text/plain": [
       "[3, 6, 9, 12, 15, 18, 21, 24, 27]"
      ]
     },
     "execution_count": 2,
     "metadata": {},
     "output_type": "execute_result"
    }
   ],
   "source": [
    "Gugu(3)"
   ]
  },
  {
   "cell_type": "code",
   "execution_count": 3,
   "metadata": {},
   "outputs": [
    {
     "name": "stdout",
     "output_type": "stream",
     "text": [
      "233168\n"
     ]
    }
   ],
   "source": [
    "# 3과 5의 배수 합하기\n",
    "\n",
    "result = 0\n",
    "for n in range(1, 1000):\n",
    "    if n % 3 == 0 or n % 5 ==0:\n",
    "        result += n\n",
    "print(result)"
   ]
  },
  {
   "cell_type": "code",
   "execution_count": 4,
   "metadata": {},
   "outputs": [],
   "source": [
    "# 게시판 페이징하기\n",
    "\n",
    "def getTotalPage(m, n):\n",
    "    if m % n == 0 :\n",
    "        return m // n\n",
    "    else:\n",
    "        return m // n + 1"
   ]
  },
  {
   "cell_type": "code",
   "execution_count": 5,
   "metadata": {},
   "outputs": [
    {
     "data": {
      "text/plain": [
       "2"
      ]
     },
     "execution_count": 5,
     "metadata": {},
     "output_type": "execute_result"
    }
   ],
   "source": [
    "getTotalPage(4, 2)"
   ]
  },
  {
   "cell_type": "code",
   "execution_count": 6,
   "metadata": {},
   "outputs": [],
   "source": [
    "#간단한 메모장 만들기\n",
    "\n",
    "import sys\n",
    "\n",
    "option = sys.argv[1]\n",
    "\n",
    "if option == '-a':\n",
    "    memo = sys.argv[2]\n",
    "    f = open('memo.txt', 'a')\n",
    "    f.write(memo)\n",
    "    f.write('\\n')\n",
    "    f.close\n",
    "elif option == '-v':\n",
    "    f = open('memo.txt')\n",
    "    memo = f.read()\n",
    "    f.close()()\n",
    "    print(memo)"
   ]
  },
  {
   "cell_type": "code",
   "execution_count": 7,
   "metadata": {},
   "outputs": [
    {
     "ename": "FileNotFoundError",
     "evalue": "[Errno 2] No such file or directory: '-f'",
     "output_type": "error",
     "traceback": [
      "\u001b[0;31m---------------------------------------------------------------------------\u001b[0m",
      "\u001b[0;31mFileNotFoundError\u001b[0m                         Traceback (most recent call last)",
      "\u001b[0;32m<ipython-input-7-05380ecc1b1a>\u001b[0m in \u001b[0;36m<module>\u001b[0;34m\u001b[0m\n\u001b[1;32m      5\u001b[0m \u001b[0mdst\u001b[0m \u001b[0;34m=\u001b[0m \u001b[0msys\u001b[0m\u001b[0;34m.\u001b[0m\u001b[0margv\u001b[0m\u001b[0;34m[\u001b[0m\u001b[0;36m2\u001b[0m\u001b[0;34m]\u001b[0m\u001b[0;34m\u001b[0m\u001b[0;34m\u001b[0m\u001b[0m\n\u001b[1;32m      6\u001b[0m \u001b[0;34m\u001b[0m\u001b[0m\n\u001b[0;32m----> 7\u001b[0;31m \u001b[0mf\u001b[0m \u001b[0;34m=\u001b[0m \u001b[0mopen\u001b[0m\u001b[0;34m(\u001b[0m\u001b[0msrc\u001b[0m\u001b[0;34m)\u001b[0m\u001b[0;34m\u001b[0m\u001b[0;34m\u001b[0m\u001b[0m\n\u001b[0m\u001b[1;32m      8\u001b[0m \u001b[0mtab_content\u001b[0m \u001b[0;34m=\u001b[0m \u001b[0mf\u001b[0m\u001b[0;34m.\u001b[0m\u001b[0mread\u001b[0m\u001b[0;34m(\u001b[0m\u001b[0;34m)\u001b[0m\u001b[0;34m\u001b[0m\u001b[0;34m\u001b[0m\u001b[0m\n\u001b[1;32m      9\u001b[0m \u001b[0mf\u001b[0m\u001b[0;34m.\u001b[0m\u001b[0mclose\u001b[0m\u001b[0;34m(\u001b[0m\u001b[0;34m)\u001b[0m\u001b[0;34m\u001b[0m\u001b[0;34m\u001b[0m\u001b[0m\n",
      "\u001b[0;31mFileNotFoundError\u001b[0m: [Errno 2] No such file or directory: '-f'"
     ]
    }
   ],
   "source": [
    "#탭을 4개의 공백으로 바꾸기\n",
    "\n",
    "import sys\n",
    "src = sys.argv[1]\n",
    "dst = sys.argv[2]\n",
    "\n",
    "f = open(src)\n",
    "tab_content = f.read()\n",
    "f.close()\n",
    "\n",
    "space_content = tab_content.replace(\"\\t\", \" \"*4)\n",
    "\n",
    "f = open(dst, 'w')\n",
    "f.write(space_content)\n",
    "f.close()"
   ]
  },
  {
   "cell_type": "code",
   "execution_count": null,
   "metadata": {},
   "outputs": [],
   "source": [
    "# 하위 디렉터리 검색하기\n",
    "\n",
    "import os\n",
    "\n",
    "def search(dirname):\n",
    "    try:\n",
    "        filenames = os.listdir(dirname)\n",
    "        for filename int filenames:\n",
    "            full_filename = os.path.join(dirname, filename)\n",
    "            if os.path.isdir(full_filename):\n",
    "                search(full_filename)\n",
    "            else:\n",
    "                ext = os.path.splitext(full_filename)[-1]\n",
    "                if ext == '.py':\n",
    "                    print(full_filename)\n",
    "    except PermissionError:\n",
    "        pass\n",
    "\n",
    "search(\"c:/\")"
   ]
  }
 ],
 "metadata": {
  "kernelspec": {
   "display_name": "Python 3",
   "language": "python",
   "name": "python3"
  },
  "language_info": {
   "codemirror_mode": {
    "name": "ipython",
    "version": 3
   },
   "file_extension": ".py",
   "mimetype": "text/x-python",
   "name": "python",
   "nbconvert_exporter": "python",
   "pygments_lexer": "ipython3",
   "version": "3.7.1"
  }
 },
 "nbformat": 4,
 "nbformat_minor": 2
}
