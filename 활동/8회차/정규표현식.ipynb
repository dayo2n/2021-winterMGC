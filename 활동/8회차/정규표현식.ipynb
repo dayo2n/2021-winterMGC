{
 "cells": [
  {
   "cell_type": "code",
   "execution_count": 2,
   "metadata": {},
   "outputs": [
    {
     "name": "stdout",
     "output_type": "stream",
     "text": [
      "\n",
      "park 800905-*******\n",
      "kim 700905-*******\n",
      "\n"
     ]
    }
   ],
   "source": [
    "#주민등록번호의 뒷자리를 *로 변경\n",
    "\n",
    "data = \"\"\"\n",
    "park 800905-1049118\n",
    "kim 700905-1059119\n",
    "\"\"\"\n",
    "\n",
    "result = []\n",
    "for line in data.split(\"\\n\"):\n",
    "    word_result = []\n",
    "    for word in line.split(\" \"):\n",
    "        if len(word) == 14 and word[:6].isdigit() and word[7:].isdigit():\n",
    "            word = word[:6] + \"-\" + \"*******\"\n",
    "        word_result.append(word)\n",
    "    result.append(\" \".join(word_result))\n",
    "print(\"\\n\".join(result))"
   ]
  },
  {
   "cell_type": "code",
   "execution_count": 3,
   "metadata": {},
   "outputs": [],
   "source": [
    "import re\n",
    "p = re.compile('ab*')"
   ]
  },
  {
   "cell_type": "code",
   "execution_count": 4,
   "metadata": {},
   "outputs": [],
   "source": [
    "p = re.compile('[a-z]+')"
   ]
  },
  {
   "cell_type": "code",
   "execution_count": 5,
   "metadata": {},
   "outputs": [
    {
     "name": "stdout",
     "output_type": "stream",
     "text": [
      "<re.Match object; span=(0, 6), match='python'>\n"
     ]
    }
   ],
   "source": [
    "#match\n",
    "m = p.match(\"python\")\n",
    "print(m)"
   ]
  },
  {
   "cell_type": "code",
   "execution_count": 6,
   "metadata": {},
   "outputs": [
    {
     "name": "stdout",
     "output_type": "stream",
     "text": [
      "None\n"
     ]
    }
   ],
   "source": [
    "m = p.match(\"3 python\")\n",
    "print(m)"
   ]
  },
  {
   "cell_type": "code",
   "execution_count": 7,
   "metadata": {},
   "outputs": [
    {
     "name": "stdout",
     "output_type": "stream",
     "text": [
      "<re.Match object; span=(0, 6), match='python'>\n"
     ]
    }
   ],
   "source": [
    "#search\n",
    "m = p.search(\"python\")\n",
    "print(m)"
   ]
  },
  {
   "cell_type": "code",
   "execution_count": 8,
   "metadata": {},
   "outputs": [
    {
     "name": "stdout",
     "output_type": "stream",
     "text": [
      "['life', 'is', 'too', 'short']\n"
     ]
    }
   ],
   "source": [
    "result = p.findall(\"life is too short\")\n",
    "print(result)"
   ]
  },
  {
   "cell_type": "code",
   "execution_count": 9,
   "metadata": {},
   "outputs": [
    {
     "name": "stdout",
     "output_type": "stream",
     "text": [
      "<callable_iterator object at 0x7f891a1cc748>\n"
     ]
    }
   ],
   "source": [
    "result = p.finditer(\"life is too short\")\n",
    "print(result)"
   ]
  },
  {
   "cell_type": "code",
   "execution_count": 10,
   "metadata": {},
   "outputs": [
    {
     "name": "stdout",
     "output_type": "stream",
     "text": [
      "<re.Match object; span=(0, 4), match='life'>\n",
      "<re.Match object; span=(5, 7), match='is'>\n",
      "<re.Match object; span=(8, 11), match='too'>\n",
      "<re.Match object; span=(12, 17), match='short'>\n"
     ]
    }
   ],
   "source": [
    "for r in result:\n",
    "    print(r)"
   ]
  },
  {
   "cell_type": "code",
   "execution_count": null,
   "metadata": {},
   "outputs": [],
   "source": []
  }
 ],
 "metadata": {
  "kernelspec": {
   "display_name": "Python 3",
   "language": "python",
   "name": "python3"
  },
  "language_info": {
   "codemirror_mode": {
    "name": "ipython",
    "version": 3
   },
   "file_extension": ".py",
   "mimetype": "text/x-python",
   "name": "python",
   "nbconvert_exporter": "python",
   "pygments_lexer": "ipython3",
   "version": "3.7.1"
  }
 },
 "nbformat": 4,
 "nbformat_minor": 2
}
